{
 "cells": [
  {
   "cell_type": "code",
   "execution_count": 27,
   "id": "dddc7f8b-e04f-45d6-acdf-25d0a3b00cf3",
   "metadata": {},
   "outputs": [
    {
     "name": "stderr",
     "output_type": "stream",
     "text": [
      "/tmp/ipykernel_9296/2337811281.py:5: DeprecationWarning: executable_path has been deprecated, please pass in a Service object\n",
      "  driver = webdriver.Chrome(PATH)\n",
      "/tmp/ipykernel_9296/2337811281.py:7: DeprecationWarning: find_element_by_class_name is deprecated. Please use find_element(by=By.CLASS_NAME, value=name) instead\n",
      "  print(\"Element identified by class:\",driver.find_element_by_class_name(\"object-kenmerken-body\").text)\n"
     ]
    },
    {
     "name": "stdout",
     "output_type": "stream",
     "text": [
      "Element identified by class: Transfer of ownership\n",
      "Asking price\n",
      "€ 1,150,000 kosten koper\n",
      "Asking price per m²\n",
      "€ 5,637\n",
      "Listed since\n",
      "Today\n",
      "Status\n",
      "Available\n",
      "Acceptance\n",
      "Available in consultation\n",
      "Construction\n",
      "Kind of house\n",
      "Single-family home, corner house (patio residence)\n",
      "Building type\n",
      "Resale property\n",
      "Year of construction\n",
      "1975\n",
      "Type of roof\n",
      "Flat roof\n",
      "Surface areas and volume\n",
      "Areas\n",
      "Living area\n",
      "204 m²\n",
      "Other space inside the building\n",
      "4 m²\n",
      "External storage space\n",
      "17 m²\n",
      "Plot size\n",
      "229 m²\n",
      "Volume in cubic meters\n",
      "811 m³\n",
      "Layout\n",
      "Number of rooms\n",
      "6 rooms (4 bedrooms)\n",
      "Number of bath rooms\n",
      "2 bathrooms and 1 separate toilet\n",
      "Bathroom facilities\n",
      "Bath, shower and 2 toilets\n",
      "Number of stories\n",
      "4 stories\n",
      "Facilities\n",
      "Alarm installation, outdoor awning, optical fibre, mechanical ventilation, passive ventilation system, flue, sliding door, TV via cable and solar panels\n",
      "Energy\n",
      "Energy label\n",
      "B What does this mean?\n",
      "Insulation\n",
      "Double glazing and energy efficient window\n",
      "Heating\n",
      "CH boiler\n",
      "Hot water\n",
      "CH boiler\n",
      "CH boiler\n",
      "ATAG (gas-fired combination boiler from 2016, in ownership)\n",
      "Cadastral data\n",
      "AMSTERDAM AL 964\n",
      "Cadastral map\n",
      "Area\n",
      "229 m²\n",
      "Ownership situation\n",
      "Municipal long-term lease\n",
      "Fees\n",
      "Bought off for eternity\n",
      "Exterior space\n",
      "Location\n",
      "Alongside a quiet road, in residential district and unobstructed surrounding view\n",
      "Garden\n",
      "Back garden, patio/atrium and side garden\n",
      "Patio/atrium\n",
      "48 m² (6,8 meter deep and 6,9 meter broad)\n",
      "Garden location\n",
      "Located at the south accessible via the rear\n",
      "Garage\n",
      "Type of garage\n",
      "Garage and detached brick garage\n",
      "Capacity\n",
      "1 car\n",
      "Facilities\n",
      "Electricity\n",
      "Parking\n",
      "Type of parking facilities\n",
      "Parking on private property and public parking\n"
     ]
    }
   ],
   "source": [
    "'''\n",
    "Here we develop our own scraper for funda.nl. \n",
    "This will help us get enough data on Dutch properties to perform some real estate analysis.\n",
    "'''\n",
    "from selenium import webdriver\n",
    "import time\n",
    "\n",
    "PATH = \"/snap/bin/chromium.chromedriver\"\n",
    "driver = webdriver.Chrome(PATH)\n",
    "driver.get(url=\"https://www.funda.nl/en/koop/amsterdam/huis-42623862-bosplaat-8/\")\n",
    "print(\"Element identified by clazss:\",driver.find_element_by_class_name(\"object-kenmerken-body\").text)\n",
    "time.sleep(5)\n",
    "driver.close()"
   ]
  },
  {
   "cell_type": "code",
   "execution_count": 30,
   "id": "e76bde4f-0960-4be3-a3dc-29c2d756f478",
   "metadata": {},
   "outputs": [
    {
     "name": "stderr",
     "output_type": "stream",
     "text": [
      "/tmp/ipykernel_9296/2603620189.py:2: DeprecationWarning: executable_path has been deprecated, please pass in a Service object\n",
      "  driver = webdriver.Chrome(PATH)\n",
      "/tmp/ipykernel_9296/2603620189.py:4: DeprecationWarning: find_element_by_class_name is deprecated. Please use find_element(by=By.CLASS_NAME, value=name) instead\n",
      "  print(\"Element identified by clazss:\",driver.find_element_by_class_name(\"search-results\").text)\n"
     ]
    },
    {
     "name": "stdout",
     "output_type": "stream",
     "text": [
      "Element identified by clazss: New\n",
      "Bosplaat 8\n",
      "1025 AT Amsterdam\n",
      "€ 1,150,000 k.k.\n",
      "204 m² / 229 m²\n",
      "6 rooms\n",
      "Ankersmit Makelaars Amsterdam\n",
      "New\n",
      "Bosplaat 8 + PP\n",
      "1025 AT Amsterdam\n",
      "€ 1,200,000 k.k.\n",
      "204 m² / 229 m²\n",
      "6 rooms\n",
      "Ankersmit Makelaars Amsterdam\n",
      "New\n",
      "Gooise Kant 77\n",
      "1104 MM Amsterdam\n",
      "€ 425,000 k.k.\n",
      "103 m² / 107 m²\n",
      "5 rooms\n",
      "Linger OG\n"
     ]
    }
   ],
   "source": [
    "PATH = \"/snap/bin/chromium.chromedriver\"\n",
    "driver = webdriver.Chrome(PATH)\n",
    "driver.get(url=\"https://www.funda.nl/en/koop/amsterdam/\")\n",
    "print(\"Element identified by clazss:\",driver.find_element_by_class_name(\"search-results\").text)\n",
    "time.sleep(5)\n",
    "driver.close()"
   ]
  },
  {
   "cell_type": "code",
   "execution_count": null,
   "id": "358899d3-52a7-498f-a713-c7795d9cd496",
   "metadata": {},
   "outputs": [],
   "source": []
  }
 ],
 "metadata": {
  "kernelspec": {
   "display_name": "Python 3 (ipykernel)",
   "language": "python",
   "name": "python3"
  },
  "language_info": {
   "codemirror_mode": {
    "name": "ipython",
    "version": 3
   },
   "file_extension": ".py",
   "mimetype": "text/x-python",
   "name": "python",
   "nbconvert_exporter": "python",
   "pygments_lexer": "ipython3",
   "version": "3.8.10"
  }
 },
 "nbformat": 4,
 "nbformat_minor": 5
}
