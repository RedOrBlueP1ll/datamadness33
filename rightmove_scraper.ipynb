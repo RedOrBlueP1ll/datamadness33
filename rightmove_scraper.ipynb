{
 "cells": [
  {
   "cell_type": "code",
   "execution_count": 1,
   "id": "07cf9a6b-b64f-4c51-8cfd-015d79274129",
   "metadata": {},
   "outputs": [
    {
     "name": "stdout",
     "output_type": "stream",
     "text": [
      "hello\n"
     ]
    }
   ],
   "source": [
    "print('hello')"
   ]
  },
  {
   "cell_type": "code",
   "execution_count": 2,
   "id": "1653cf63-8969-49a7-be5a-468bf3047369",
   "metadata": {},
   "outputs": [],
   "source": [
    "#adding a comment"
   ]
  },
  {
   "cell_type": "code",
   "execution_count": 3,
   "id": "4bc36f3a-0d96-40fb-8782-236e1c3d6b83",
   "metadata": {},
   "outputs": [
    {
     "name": "stdout",
     "output_type": "stream",
     "text": [
      "smth\n"
     ]
    }
   ],
   "source": [
    "print('smth')"
   ]
  },
  {
   "cell_type": "code",
   "execution_count": null,
   "id": "030a107b-2c09-473c-99e3-70669b6891a1",
   "metadata": {},
   "outputs": [],
   "source": []
  }
 ],
 "metadata": {
  "kernelspec": {
   "display_name": "Python 3 (ipykernel)",
   "language": "python",
   "name": "python3"
  },
  "language_info": {
   "codemirror_mode": {
    "name": "ipython",
    "version": 3
   },
   "file_extension": ".py",
   "mimetype": "text/x-python",
   "name": "python",
   "nbconvert_exporter": "python",
   "pygments_lexer": "ipython3",
   "version": "3.8.10"
  }
 },
 "nbformat": 4,
 "nbformat_minor": 5
}
