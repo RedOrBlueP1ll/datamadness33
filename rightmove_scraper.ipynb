{
 "cells": [
  {
   "cell_type": "code",
   "execution_count": 1,
   "id": "07cf9a6b-b64f-4c51-8cfd-015d79274129",
   "metadata": {},
   "outputs": [],
   "source": [
    "from rightmove_webscraper import RightmoveData\n",
    "\n",
    "url = \"https://www.rightmove.co.uk/property-for-sale/find.html?searchType=SALE&locationIdentifier=REGION%5E87490&insId=1&radius=0.0&minPrice=&maxPrice=&minBedrooms=&maxBedrooms=&displayPropertyType=&maxDaysSinceAdded=&_includeSSTC=on&sortByPriceDescending=&primaryDisplayPropertyType=&secondaryDisplayPropertyType=&oldDisplayPropertyType=&oldPrimaryDisplayPropertyType=&newHome=&auction=false\"\n",
    "rm = RightmoveData(url)"
   ]
  },
  {
   "cell_type": "code",
   "execution_count": 2,
   "id": "8191b297-2d83-45a5-8ece-d7849f835ae7",
   "metadata": {},
   "outputs": [
    {
     "data": {
      "text/plain": [
       "8629022.33047619"
      ]
     },
     "execution_count": 2,
     "metadata": {},
     "output_type": "execute_result"
    }
   ],
   "source": [
    "rm.average_price"
   ]
  },
  {
   "cell_type": "code",
   "execution_count": 5,
   "id": "28a53ec7-1d1f-4233-81fd-d4891dd86393",
   "metadata": {},
   "outputs": [
    {
     "data": {
      "text/html": [
       "<div>\n",
       "<style scoped>\n",
       "    .dataframe tbody tr th:only-of-type {\n",
       "        vertical-align: middle;\n",
       "    }\n",
       "\n",
       "    .dataframe tbody tr th {\n",
       "        vertical-align: top;\n",
       "    }\n",
       "\n",
       "    .dataframe thead th {\n",
       "        text-align: right;\n",
       "    }\n",
       "</style>\n",
       "<table border=\"1\" class=\"dataframe\">\n",
       "  <thead>\n",
       "    <tr style=\"text-align: right;\">\n",
       "      <th></th>\n",
       "      <th>price</th>\n",
       "      <th>type</th>\n",
       "      <th>address</th>\n",
       "      <th>url</th>\n",
       "      <th>agent_url</th>\n",
       "      <th>postcode</th>\n",
       "      <th>number_bedrooms</th>\n",
       "      <th>search_date</th>\n",
       "    </tr>\n",
       "  </thead>\n",
       "  <tbody>\n",
       "    <tr>\n",
       "      <th>0</th>\n",
       "      <td>525000.0</td>\n",
       "      <td>2 bedroom flat for sale</td>\n",
       "      <td>Sirius House, London SE16</td>\n",
       "      <td>http://www.rightmove.co.uk/properties/11882297...</td>\n",
       "      <td>http://www.rightmove.co.uk/estate-agents/agent...</td>\n",
       "      <td>SE16</td>\n",
       "      <td>2.0</td>\n",
       "      <td>2022-03-08 11:00:27.843099</td>\n",
       "    </tr>\n",
       "    <tr>\n",
       "      <th>1</th>\n",
       "      <td>54500000.0</td>\n",
       "      <td>12 bedroom terraced house for sale</td>\n",
       "      <td>Upper Grosvenor Street, London, W1K</td>\n",
       "      <td>http://www.rightmove.co.uk/properties/11705362...</td>\n",
       "      <td>http://www.rightmove.co.uk/estate-agents/agent...</td>\n",
       "      <td>W1K</td>\n",
       "      <td>12.0</td>\n",
       "      <td>2022-03-08 11:00:27.843099</td>\n",
       "    </tr>\n",
       "    <tr>\n",
       "      <th>2</th>\n",
       "      <td>54500000.0</td>\n",
       "      <td>12 bedroom town house for sale</td>\n",
       "      <td>Upper Grosvenor Street, London, W1K</td>\n",
       "      <td>http://www.rightmove.co.uk/properties/97872269...</td>\n",
       "      <td>http://www.rightmove.co.uk/estate-agents/agent...</td>\n",
       "      <td>W1K</td>\n",
       "      <td>12.0</td>\n",
       "      <td>2022-03-08 11:00:27.843099</td>\n",
       "    </tr>\n",
       "    <tr>\n",
       "      <th>3</th>\n",
       "      <td>46000000.0</td>\n",
       "      <td>Property for sale</td>\n",
       "      <td>Brook Street, London, W1K</td>\n",
       "      <td>http://www.rightmove.co.uk/properties/98010533...</td>\n",
       "      <td>http://www.rightmove.co.uk/estate-agents/agent...</td>\n",
       "      <td>W1K</td>\n",
       "      <td>NaN</td>\n",
       "      <td>2022-03-08 11:00:27.843099</td>\n",
       "    </tr>\n",
       "    <tr>\n",
       "      <th>4</th>\n",
       "      <td>NaN</td>\n",
       "      <td>6 bedroom house for sale</td>\n",
       "      <td>Pitt Street, Kensington, W8</td>\n",
       "      <td>http://www.rightmove.co.uk/properties/11948669...</td>\n",
       "      <td>http://www.rightmove.co.uk/estate-agents/agent...</td>\n",
       "      <td>W8</td>\n",
       "      <td>6.0</td>\n",
       "      <td>2022-03-08 11:00:27.843099</td>\n",
       "    </tr>\n",
       "  </tbody>\n",
       "</table>\n",
       "</div>"
      ],
      "text/plain": [
       "        price                                type  \\\n",
       "0    525000.0             2 bedroom flat for sale   \n",
       "1  54500000.0  12 bedroom terraced house for sale   \n",
       "2  54500000.0      12 bedroom town house for sale   \n",
       "3  46000000.0                   Property for sale   \n",
       "4         NaN            6 bedroom house for sale   \n",
       "\n",
       "                               address  \\\n",
       "0            Sirius House, London SE16   \n",
       "1  Upper Grosvenor Street, London, W1K   \n",
       "2  Upper Grosvenor Street, London, W1K   \n",
       "3            Brook Street, London, W1K   \n",
       "4          Pitt Street, Kensington, W8   \n",
       "\n",
       "                                                 url  \\\n",
       "0  http://www.rightmove.co.uk/properties/11882297...   \n",
       "1  http://www.rightmove.co.uk/properties/11705362...   \n",
       "2  http://www.rightmove.co.uk/properties/97872269...   \n",
       "3  http://www.rightmove.co.uk/properties/98010533...   \n",
       "4  http://www.rightmove.co.uk/properties/11948669...   \n",
       "\n",
       "                                           agent_url postcode  \\\n",
       "0  http://www.rightmove.co.uk/estate-agents/agent...     SE16   \n",
       "1  http://www.rightmove.co.uk/estate-agents/agent...      W1K   \n",
       "2  http://www.rightmove.co.uk/estate-agents/agent...      W1K   \n",
       "3  http://www.rightmove.co.uk/estate-agents/agent...      W1K   \n",
       "4  http://www.rightmove.co.uk/estate-agents/agent...       W8   \n",
       "\n",
       "   number_bedrooms                search_date  \n",
       "0              2.0 2022-03-08 11:00:27.843099  \n",
       "1             12.0 2022-03-08 11:00:27.843099  \n",
       "2             12.0 2022-03-08 11:00:27.843099  \n",
       "3              NaN 2022-03-08 11:00:27.843099  \n",
       "4              6.0 2022-03-08 11:00:27.843099  "
      ]
     },
     "execution_count": 5,
     "metadata": {},
     "output_type": "execute_result"
    }
   ],
   "source": [
    "df = rm.get_results\n",
    "df.head()"
   ]
  },
  {
   "cell_type": "code",
   "execution_count": 8,
   "id": "d7191b6f-7bde-4f84-af7c-3ff77f71bc36",
   "metadata": {},
   "outputs": [
    {
     "data": {
      "text/plain": [
       "'http://www.rightmove.co.uk/properties/117053621#/?channel=RES_BUY'"
      ]
     },
     "execution_count": 8,
     "metadata": {},
     "output_type": "execute_result"
    }
   ],
   "source": [
    "df.iloc[1]['url']"
   ]
  },
  {
   "cell_type": "code",
   "execution_count": null,
   "id": "16b0a902-8035-44e4-b28b-404596922edf",
   "metadata": {},
   "outputs": [],
   "source": []
  }
 ],
 "metadata": {
  "kernelspec": {
   "display_name": "Python 3 (ipykernel)",
   "language": "python",
   "name": "python3"
  },
  "language_info": {
   "codemirror_mode": {
    "name": "ipython",
    "version": 3
   },
   "file_extension": ".py",
   "mimetype": "text/x-python",
   "name": "python",
   "nbconvert_exporter": "python",
   "pygments_lexer": "ipython3",
   "version": "3.8.10"
  }
 },
 "nbformat": 4,
 "nbformat_minor": 5
}
